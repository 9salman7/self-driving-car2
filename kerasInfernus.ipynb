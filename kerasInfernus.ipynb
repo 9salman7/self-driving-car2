{
  "nbformat": 4,
  "nbformat_minor": 0,
  "metadata": {
    "kernelspec": {
      "display_name": "Python 3",
      "language": "python",
      "name": "python3"
    },
    "language_info": {
      "codemirror_mode": {
        "name": "ipython",
        "version": 3
      },
      "file_extension": ".py",
      "mimetype": "text/x-python",
      "name": "python",
      "nbconvert_exporter": "python",
      "pygments_lexer": "ipython3",
      "version": "3.6.4"
    },
    "colab": {
      "name": "kerasInfernus.ipynb",
      "provenance": [],
      "collapsed_sections": [],
      "toc_visible": true
    }
  },
  "cells": [
    {
      "cell_type": "code",
      "metadata": {
        "id": "h-tlWlfo3OmG",
        "colab_type": "code",
        "outputId": "9f55a760-cfe4-4e63-ad3b-b576d2f54806",
        "colab": {
          "base_uri": "https://localhost:8080/",
          "height": 17
        }
      },
      "source": [
        "from IPython.core.display import display, HTML\n",
        "display(HTML(\"<style>.container { width:90% !important; }</style>\"))"
      ],
      "execution_count": 0,
      "outputs": [
        {
          "output_type": "display_data",
          "data": {
            "text/html": [
              "<style>.container { width:90% !important; }</style>"
            ],
            "text/plain": [
              "<IPython.core.display.HTML object>"
            ]
          },
          "metadata": {
            "tags": []
          }
        }
      ]
    },
    {
      "cell_type": "code",
      "metadata": {
        "id": "bbVaSQr23OmV",
        "colab_type": "code",
        "outputId": "ee876f99-36b9-4479-fb75-23fb5d3ffa82",
        "colab": {
          "base_uri": "https://localhost:8080/",
          "height": 81
        }
      },
      "source": [
        "import random\n",
        "import time\n",
        "import glob\n",
        "import sys\n",
        "import numpy as np\n",
        "import collections\n",
        "import matplotlib.pyplot as plt\n",
        "from sklearn.model_selection import train_test_split\n",
        "\n",
        "import tensorflow as tf\n",
        "import keras\n",
        "from keras.callbacks import ModelCheckpoint\n",
        "from keras.models import Sequential\n",
        "from keras.layers import Conv2D, MaxPooling2D\n",
        "from keras.layers import Flatten, Dense, Dropout, Lambda\n",
        "\n",
        "%matplotlib inline"
      ],
      "execution_count": 0,
      "outputs": [
        {
          "output_type": "display_data",
          "data": {
            "text/html": [
              "<p style=\"color: red;\">\n",
              "The default version of TensorFlow in Colab will soon switch to TensorFlow 2.x.<br>\n",
              "We recommend you <a href=\"https://www.tensorflow.org/guide/migrate\" target=\"_blank\">upgrade</a> now \n",
              "or ensure your notebook will continue to use TensorFlow 1.x via the <code>%tensorflow_version 1.x</code> magic:\n",
              "<a href=\"https://colab.research.google.com/notebooks/tensorflow_version.ipynb\" target=\"_blank\">more info</a>.</p>\n"
            ],
            "text/plain": [
              "<IPython.core.display.HTML object>"
            ]
          },
          "metadata": {
            "tags": []
          }
        },
        {
          "output_type": "stream",
          "text": [
            "Using TensorFlow backend.\n"
          ],
          "name": "stderr"
        }
      ]
    },
    {
      "cell_type": "code",
      "metadata": {
        "id": "EHio15V_3Omc",
        "colab_type": "code",
        "colab": {}
      },
      "source": [
        "def load_data(input_size, path):\n",
        "    print(\"Loading training data...\")\n",
        "    start = time.time()\n",
        "\n",
        "    # load training data\n",
        "    X = np.empty((0, input_size))\n",
        "    y = np.empty((0, 4))\n",
        "    training_data = glob.glob(path)\n",
        "\n",
        "    # if no data, exit\n",
        "    if not training_data:\n",
        "        print(\"Data not found, exit\")\n",
        "        sys.exit()\n",
        "\n",
        "    for single_npz in training_data:\n",
        "        with np.load(single_npz) as data:\n",
        "            train = data['train']\n",
        "            train_labels = data['train_labels']\n",
        "        X = np.vstack((X, train))\n",
        "        y = np.vstack((y, train_labels))\n",
        "\n",
        "    y = y[:, :3]\n",
        "    print(\"Image array shape: \", X.shape)\n",
        "    print(\"Label array shape: \", y.shape)\n",
        "\n",
        "    end = time.time()\n",
        "    print(\"Loading data duration: %.2fs\" % (end - start))\n",
        "    return X, y"
      ],
      "execution_count": 0,
      "outputs": []
    },
    {
      "cell_type": "code",
      "metadata": {
        "id": "03M4vCuK3Omj",
        "colab_type": "code",
        "outputId": "3023884b-3b85-4f0d-a1a1-582728522ae7",
        "colab": {
          "base_uri": "https://localhost:8080/",
          "height": 87
        }
      },
      "source": [
        "# fix seed\n",
        "tf.set_random_seed(123)\n",
        "np.random.seed(123)\n",
        "\n",
        "shape = (120, 360)\n",
        "num_classes = 3\n",
        "data_path =\"*.npz\"\n",
        "\n",
        "X, y = load_data(shape[0]*shape[1], data_path)"
      ],
      "execution_count": 0,
      "outputs": [
        {
          "output_type": "stream",
          "text": [
            "Loading training data...\n",
            "Image array shape:  (286, 43200)\n",
            "Label array shape:  (286, 3)\n",
            "Loading data duration: 0.46s\n"
          ],
          "name": "stdout"
        }
      ]
    },
    {
      "cell_type": "code",
      "metadata": {
        "id": "ZneNab_43Omp",
        "colab_type": "code",
        "colab": {}
      },
      "source": [
        "# reshape data \n",
        "X = X.reshape(X.shape[0], shape[0], shape[1], 1)"
      ],
      "execution_count": 0,
      "outputs": []
    },
    {
      "cell_type": "code",
      "metadata": {
        "id": "j1INDDz03Omv",
        "colab_type": "code",
        "outputId": "dee91e6b-5d5a-4268-911d-1c4bf7ba0206",
        "colab": {
          "base_uri": "https://localhost:8080/",
          "height": 181
        }
      },
      "source": [
        "collections.Counter(y.argmax(-1))\n",
        "plt.imshow(X[50].reshape(shape), cmap='gray')"
      ],
      "execution_count": 0,
      "outputs": [
        {
          "output_type": "execute_result",
          "data": {
            "text/plain": [
              "<matplotlib.image.AxesImage at 0x7fce08e1f710>"
            ]
          },
          "metadata": {
            "tags": []
          },
          "execution_count": 6
        },
        {
          "output_type": "display_data",
          "data": {
            "image/png": "[encoded data removed]",
            "text/plain": [
              "<Figure size 432x288 with 1 Axes>"
            ]
          },
          "metadata": {
            "tags": []
          }
        }
      ]
    },
    {
      "cell_type": "code",
      "metadata": {
        "id": "5AKNNVOj3Om3",
        "colab_type": "code",
        "outputId": "9fd1c393-d9e8-40b3-e0f2-751ee76dd72b",
        "colab": {
          "base_uri": "https://localhost:8080/",
          "height": 266
        }
      },
      "source": [
        "model = Sequential()\n",
        "model.add(Lambda(lambda x: (x/255.), input_shape=(*shape, 1)))\n",
        "model.add(Conv2D(16, kernel_size=(5, 5), activation='relu'))\n",
        "model.add(MaxPooling2D(pool_size=(2, 2)))\n",
        "model.add(Conv2D(32, (5, 5), activation='relu'))\n",
        "model.add(MaxPooling2D(pool_size=(2, 2)))\n",
        "model.add(Flatten())\n",
        "model.add(Dense(64, activation='relu'))\n",
        "model.add(Dropout(0.5))\n",
        "model.add(Dense(64, activation='relu'))\n",
        "model.add(Dropout(0.5))\n",
        "model.add(Dense(num_classes, activation='softmax'))"
      ],
      "execution_count": 0,
      "outputs": [
        {
          "output_type": "stream",
          "text": [
            "WARNING:tensorflow:From /usr/local/lib/python3.6/dist-packages/keras/backend/tensorflow_backend.py:66: The name tf.get_default_graph is deprecated. Please use tf.compat.v1.get_default_graph instead.\n",
            "\n",
            "WARNING:tensorflow:From /usr/local/lib/python3.6/dist-packages/keras/backend/tensorflow_backend.py:541: The name tf.placeholder is deprecated. Please use tf.compat.v1.placeholder instead.\n",
            "\n",
            "WARNING:tensorflow:From /usr/local/lib/python3.6/dist-packages/keras/backend/tensorflow_backend.py:4432: The name tf.random_uniform is deprecated. Please use tf.random.uniform instead.\n",
            "\n",
            "WARNING:tensorflow:From /usr/local/lib/python3.6/dist-packages/keras/backend/tensorflow_backend.py:4267: The name tf.nn.max_pool is deprecated. Please use tf.nn.max_pool2d instead.\n",
            "\n",
            "WARNING:tensorflow:From /usr/local/lib/python3.6/dist-packages/keras/backend/tensorflow_backend.py:148: The name tf.placeholder_with_default is deprecated. Please use tf.compat.v1.placeholder_with_default instead.\n",
            "\n",
            "WARNING:tensorflow:From /usr/local/lib/python3.6/dist-packages/keras/backend/tensorflow_backend.py:3733: calling dropout (from tensorflow.python.ops.nn_ops) with keep_prob is deprecated and will be removed in a future version.\n",
            "Instructions for updating:\n",
            "Please use `rate` instead of `keep_prob`. Rate should be set to `rate = 1 - keep_prob`.\n"
          ],
          "name": "stdout"
        }
      ]
    },
    {
      "cell_type": "code",
      "metadata": {
        "id": "ojv99mg83Om9",
        "colab_type": "code",
        "outputId": "cce3a1c7-2a1a-48be-a8f1-43a4932ddd3d",
        "colab": {
          "base_uri": "https://localhost:8080/",
          "height": 545
        }
      },
      "source": [
        "model.summary()"
      ],
      "execution_count": 0,
      "outputs": [
        {
          "output_type": "stream",
          "text": [
            "Model: \"sequential_1\"\n",
            "_________________________________________________________________\n",
            "Layer (type)                 Output Shape              Param #   \n",
            "=================================================================\n",
            "lambda_1 (Lambda)            (None, 120, 360, 1)       0         \n",
            "_________________________________________________________________\n",
            "conv2d_1 (Conv2D)            (None, 116, 356, 16)      416       \n",
            "_________________________________________________________________\n",
            "max_pooling2d_1 (MaxPooling2 (None, 58, 178, 16)       0         \n",
            "_________________________________________________________________\n",
            "conv2d_2 (Conv2D)            (None, 54, 174, 32)       12832     \n",
            "_________________________________________________________________\n",
            "max_pooling2d_2 (MaxPooling2 (None, 27, 87, 32)        0         \n",
            "_________________________________________________________________\n",
            "flatten_1 (Flatten)          (None, 75168)             0         \n",
            "_________________________________________________________________\n",
            "dense_1 (Dense)              (None, 64)                4810816   \n",
            "_________________________________________________________________\n",
            "dropout_1 (Dropout)          (None, 64)                0         \n",
            "_________________________________________________________________\n",
            "dense_2 (Dense)              (None, 64)                4160      \n",
            "_________________________________________________________________\n",
            "dropout_2 (Dropout)          (None, 64)                0         \n",
            "_________________________________________________________________\n",
            "dense_3 (Dense)              (None, 3)                 195       \n",
            "=================================================================\n",
            "Total params: 4,828,419\n",
            "Trainable params: 4,828,419\n",
            "Non-trainable params: 0\n",
            "_________________________________________________________________\n"
          ],
          "name": "stdout"
        }
      ]
    },
    {
      "cell_type": "code",
      "metadata": {
        "id": "-iP92szT3OnD",
        "colab_type": "code",
        "outputId": "2d19ad50-3e22-466a-984f-582a48fd81cc",
        "colab": {
          "base_uri": "https://localhost:8080/",
          "height": 107
        }
      },
      "source": [
        "model.compile(optimizer = 'adam', \n",
        "              loss='categorical_crossentropy', \n",
        "              metrics=['accuracy'])\n",
        "\n",
        "checkpoint = ModelCheckpoint('model_test.h5', \n",
        "                             verbose=1, \n",
        "                             monitor='val_loss', \n",
        "                             save_best_only=True, \n",
        "                             mode='auto')\n",
        "callback_list = [checkpoint]"
      ],
      "execution_count": 0,
      "outputs": [
        {
          "output_type": "stream",
          "text": [
            "WARNING:tensorflow:From /usr/local/lib/python3.6/dist-packages/keras/optimizers.py:793: The name tf.train.Optimizer is deprecated. Please use tf.compat.v1.train.Optimizer instead.\n",
            "\n",
            "WARNING:tensorflow:From /usr/local/lib/python3.6/dist-packages/keras/backend/tensorflow_backend.py:3576: The name tf.log is deprecated. Please use tf.math.log instead.\n",
            "\n"
          ],
          "name": "stdout"
        }
      ]
    },
    {
      "cell_type": "code",
      "metadata": {
        "scrolled": false,
        "id": "37bCI6G23OnJ",
        "colab_type": "code",
        "outputId": "cf2b6627-4544-4f65-8a55-8f4db72a47d3",
        "colab": {
          "base_uri": "https://localhost:8080/",
          "height": 1000
        }
      },
      "source": [
        "batch_size = 16\n",
        "epochs = 50\n",
        "\n",
        "history = model.fit(X, y,\n",
        "          batch_size=batch_size,\n",
        "          epochs=epochs,\n",
        "          verbose=1,\n",
        "          validation_split=0.2,\n",
        "          callbacks=callback_list)"
      ],
      "execution_count": 0,
      "outputs": [
        {
          "output_type": "stream",
          "text": [
            "WARNING:tensorflow:From /usr/local/lib/python3.6/dist-packages/tensorflow_core/python/ops/math_grad.py:1424: where (from tensorflow.python.ops.array_ops) is deprecated and will be removed in a future version.\n",
            "Instructions for updating:\n",
            "Use tf.where in 2.0, which has the same broadcast rule as np.where\n",
            "WARNING:tensorflow:From /usr/local/lib/python3.6/dist-packages/keras/backend/tensorflow_backend.py:1033: The name tf.assign_add is deprecated. Please use tf.compat.v1.assign_add instead.\n",
            "\n",
            "WARNING:tensorflow:From /usr/local/lib/python3.6/dist-packages/keras/backend/tensorflow_backend.py:1020: The name tf.assign is deprecated. Please use tf.compat.v1.assign instead.\n",
            "\n",
            "WARNING:tensorflow:From /usr/local/lib/python3.6/dist-packages/keras/backend/tensorflow_backend.py:3005: The name tf.Session is deprecated. Please use tf.compat.v1.Session instead.\n",
            "\n",
            "Train on 228 samples, validate on 58 samples\n",
            "Epoch 1/50\n",
            "WARNING:tensorflow:From /usr/local/lib/python3.6/dist-packages/keras/backend/tensorflow_backend.py:190: The name tf.get_default_session is deprecated. Please use tf.compat.v1.get_default_session instead.\n",
            "\n",
            "WARNING:tensorflow:From /usr/local/lib/python3.6/dist-packages/keras/backend/tensorflow_backend.py:197: The name tf.ConfigProto is deprecated. Please use tf.compat.v1.ConfigProto instead.\n",
            "\n",
            "WARNING:tensorflow:From /usr/local/lib/python3.6/dist-packages/keras/backend/tensorflow_backend.py:207: The name tf.global_variables is deprecated. Please use tf.compat.v1.global_variables instead.\n",
            "\n",
            "WARNING:tensorflow:From /usr/local/lib/python3.6/dist-packages/keras/backend/tensorflow_backend.py:216: The name tf.is_variable_initialized is deprecated. Please use tf.compat.v1.is_variable_initialized instead.\n",
            "\n",
            "WARNING:tensorflow:From /usr/local/lib/python3.6/dist-packages/keras/backend/tensorflow_backend.py:223: The name tf.variables_initializer is deprecated. Please use tf.compat.v1.variables_initializer instead.\n",
            "\n",
            "228/228 [==============================] - 12s 54ms/step - loss: 1.0028 - acc: 0.5088 - val_loss: 0.6926 - val_acc: 0.8793\n",
            "\n",
            "Epoch 00001: val_loss improved from inf to 0.69259, saving model to model_test.h5\n",
            "Epoch 2/50\n",
            "228/228 [==============================] - 11s 50ms/step - loss: 0.6815 - acc: 0.7368 - val_loss: 0.3812 - val_acc: 0.8793\n",
            "\n",
            "Epoch 00002: val_loss improved from 0.69259 to 0.38116, saving model to model_test.h5\n",
            "Epoch 3/50\n",
            "228/228 [==============================] - 11s 50ms/step - loss: 0.4389 - acc: 0.8377 - val_loss: 0.2096 - val_acc: 0.9138\n",
            "\n",
            "Epoch 00003: val_loss improved from 0.38116 to 0.20964, saving model to model_test.h5\n",
            "Epoch 4/50\n",
            "228/228 [==============================] - 11s 50ms/step - loss: 0.3546 - acc: 0.8684 - val_loss: 0.1345 - val_acc: 0.9310\n",
            "\n",
            "Epoch 00004: val_loss improved from 0.20964 to 0.13449, saving model to model_test.h5\n",
            "Epoch 5/50\n",
            "228/228 [==============================] - 11s 50ms/step - loss: 0.2969 - acc: 0.8860 - val_loss: 0.0881 - val_acc: 0.9828\n",
            "\n",
            "Epoch 00005: val_loss improved from 0.13449 to 0.08806, saving model to model_test.h5\n",
            "Epoch 6/50\n",
            "228/228 [==============================] - 11s 50ms/step - loss: 0.1702 - acc: 0.9430 - val_loss: 0.0580 - val_acc: 0.9655\n",
            "\n",
            "Epoch 00006: val_loss improved from 0.08806 to 0.05802, saving model to model_test.h5\n",
            "Epoch 7/50\n",
            "228/228 [==============================] - 11s 50ms/step - loss: 0.1867 - acc: 0.9211 - val_loss: 0.0560 - val_acc: 0.9655\n",
            "\n",
            "Epoch 00007: val_loss improved from 0.05802 to 0.05603, saving model to model_test.h5\n",
            "Epoch 8/50\n",
            "228/228 [==============================] - 11s 50ms/step - loss: 0.0994 - acc: 0.9561 - val_loss: 0.0308 - val_acc: 0.9828\n",
            "\n",
            "Epoch 00008: val_loss improved from 0.05603 to 0.03082, saving model to model_test.h5\n",
            "Epoch 9/50\n",
            "228/228 [==============================] - 11s 50ms/step - loss: 0.1375 - acc: 0.9386 - val_loss: 0.0458 - val_acc: 0.9828\n",
            "\n",
            "Epoch 00009: val_loss did not improve from 0.03082\n",
            "Epoch 10/50\n",
            "228/228 [==============================] - 11s 50ms/step - loss: 0.0966 - acc: 0.9693 - val_loss: 0.0118 - val_acc: 1.0000\n",
            "\n",
            "Epoch 00010: val_loss improved from 0.03082 to 0.01176, saving model to model_test.h5\n",
            "Epoch 11/50\n",
            "228/228 [==============================] - 11s 50ms/step - loss: 0.1016 - acc: 0.9737 - val_loss: 0.0032 - val_acc: 1.0000\n",
            "\n",
            "Epoch 00011: val_loss improved from 0.01176 to 0.00321, saving model to model_test.h5\n",
            "Epoch 12/50\n",
            "228/228 [==============================] - 11s 50ms/step - loss: 0.0783 - acc: 0.9693 - val_loss: 0.0015 - val_acc: 1.0000\n",
            "\n",
            "Epoch 00012: val_loss improved from 0.00321 to 0.00152, saving model to model_test.h5\n",
            "Epoch 13/50\n",
            "228/228 [==============================] - 11s 50ms/step - loss: 0.0441 - acc: 0.9868 - val_loss: 9.1089e-04 - val_acc: 1.0000\n",
            "\n",
            "Epoch 00013: val_loss improved from 0.00152 to 0.00091, saving model to model_test.h5\n",
            "Epoch 14/50\n",
            "228/228 [==============================] - 11s 50ms/step - loss: 0.0680 - acc: 0.9737 - val_loss: 0.0053 - val_acc: 1.0000\n",
            "\n",
            "Epoch 00014: val_loss did not improve from 0.00091\n",
            "Epoch 15/50\n",
            "228/228 [==============================] - 11s 49ms/step - loss: 0.0561 - acc: 0.9825 - val_loss: 0.0076 - val_acc: 1.0000\n",
            "\n",
            "Epoch 00015: val_loss did not improve from 0.00091\n",
            "Epoch 16/50\n",
            "228/228 [==============================] - 11s 50ms/step - loss: 0.0236 - acc: 0.9956 - val_loss: 0.0123 - val_acc: 1.0000\n",
            "\n",
            "Epoch 00016: val_loss did not improve from 0.00091\n",
            "Epoch 17/50\n",
            "228/228 [==============================] - 11s 50ms/step - loss: 0.0253 - acc: 0.9912 - val_loss: 0.0060 - val_acc: 1.0000\n",
            "\n",
            "Epoch 00017: val_loss did not improve from 0.00091\n",
            "Epoch 18/50\n",
            "228/228 [==============================] - 11s 50ms/step - loss: 0.0344 - acc: 0.9868 - val_loss: 0.0108 - val_acc: 1.0000\n",
            "\n",
            "Epoch 00018: val_loss did not improve from 0.00091\n",
            "Epoch 19/50\n",
            "228/228 [==============================] - 11s 50ms/step - loss: 0.0558 - acc: 0.9912 - val_loss: 0.0027 - val_acc: 1.0000\n",
            "\n",
            "Epoch 00019: val_loss did not improve from 0.00091\n",
            "Epoch 20/50\n",
            "228/228 [==============================] - 11s 50ms/step - loss: 0.0398 - acc: 0.9868 - val_loss: 0.0106 - val_acc: 1.0000\n",
            "\n",
            "Epoch 00020: val_loss did not improve from 0.00091\n",
            "Epoch 21/50\n",
            "228/228 [==============================] - 11s 50ms/step - loss: 0.0251 - acc: 0.9912 - val_loss: 0.0493 - val_acc: 0.9828\n",
            "\n",
            "Epoch 00021: val_loss did not improve from 0.00091\n",
            "Epoch 22/50\n",
            "228/228 [==============================] - 11s 50ms/step - loss: 0.0258 - acc: 0.9912 - val_loss: 0.0026 - val_acc: 1.0000\n",
            "\n",
            "Epoch 00022: val_loss did not improve from 0.00091\n",
            "Epoch 23/50\n",
            "228/228 [==============================] - 11s 50ms/step - loss: 0.0232 - acc: 0.9868 - val_loss: 6.6891e-04 - val_acc: 1.0000\n",
            "\n",
            "Epoch 00023: val_loss improved from 0.00091 to 0.00067, saving model to model_test.h5\n",
            "Epoch 24/50\n",
            "228/228 [==============================] - 11s 50ms/step - loss: 0.0246 - acc: 0.9956 - val_loss: 7.6177e-05 - val_acc: 1.0000\n",
            "\n",
            "Epoch 00024: val_loss improved from 0.00067 to 0.00008, saving model to model_test.h5\n",
            "Epoch 25/50\n",
            "228/228 [==============================] - 11s 50ms/step - loss: 0.0417 - acc: 0.9912 - val_loss: 8.0223e-04 - val_acc: 1.0000\n",
            "\n",
            "Epoch 00025: val_loss did not improve from 0.00008\n",
            "Epoch 26/50\n",
            "228/228 [==============================] - 11s 50ms/step - loss: 0.0121 - acc: 0.9956 - val_loss: 4.2642e-04 - val_acc: 1.0000\n",
            "\n",
            "Epoch 00026: val_loss did not improve from 0.00008\n",
            "Epoch 27/50\n",
            "228/228 [==============================] - 11s 49ms/step - loss: 0.0053 - acc: 1.0000 - val_loss: 4.3529e-04 - val_acc: 1.0000\n",
            "\n",
            "Epoch 00027: val_loss did not improve from 0.00008\n",
            "Epoch 28/50\n",
            "228/228 [==============================] - 11s 49ms/step - loss: 0.0026 - acc: 1.0000 - val_loss: 0.0020 - val_acc: 1.0000\n",
            "\n",
            "Epoch 00028: val_loss did not improve from 0.00008\n",
            "Epoch 29/50\n",
            "228/228 [==============================] - 11s 49ms/step - loss: 0.0052 - acc: 1.0000 - val_loss: 0.0011 - val_acc: 1.0000\n",
            "\n",
            "Epoch 00029: val_loss did not improve from 0.00008\n",
            "Epoch 30/50\n",
            "228/228 [==============================] - 11s 49ms/step - loss: 0.0033 - acc: 1.0000 - val_loss: 4.5927e-04 - val_acc: 1.0000\n",
            "\n",
            "Epoch 00030: val_loss did not improve from 0.00008\n",
            "Epoch 31/50\n",
            "228/228 [==============================] - 11s 49ms/step - loss: 0.0099 - acc: 0.9956 - val_loss: 4.2614e-04 - val_acc: 1.0000\n",
            "\n",
            "Epoch 00031: val_loss did not improve from 0.00008\n",
            "Epoch 32/50\n",
            "228/228 [==============================] - 11s 49ms/step - loss: 0.0198 - acc: 0.9956 - val_loss: 0.0025 - val_acc: 1.0000\n",
            "\n",
            "Epoch 00032: val_loss did not improve from 0.00008\n",
            "Epoch 33/50\n",
            "228/228 [==============================] - 11s 49ms/step - loss: 0.0112 - acc: 0.9956 - val_loss: 0.0065 - val_acc: 1.0000\n",
            "\n",
            "Epoch 00033: val_loss did not improve from 0.00008\n",
            "Epoch 34/50\n",
            "228/228 [==============================] - 11s 49ms/step - loss: 0.0036 - acc: 1.0000 - val_loss: 0.0049 - val_acc: 1.0000\n",
            "\n",
            "Epoch 00034: val_loss did not improve from 0.00008\n",
            "Epoch 35/50\n",
            "228/228 [==============================] - 11s 49ms/step - loss: 0.0044 - acc: 1.0000 - val_loss: 0.0026 - val_acc: 1.0000\n",
            "\n",
            "Epoch 00035: val_loss did not improve from 0.00008\n",
            "Epoch 36/50\n",
            "228/228 [==============================] - 11s 49ms/step - loss: 6.0704e-04 - acc: 1.0000 - val_loss: 0.0011 - val_acc: 1.0000\n",
            "\n",
            "Epoch 00036: val_loss did not improve from 0.00008\n",
            "Epoch 37/50\n",
            "228/228 [==============================] - 11s 50ms/step - loss: 0.0180 - acc: 0.9956 - val_loss: 9.1265e-04 - val_acc: 1.0000\n",
            "\n",
            "Epoch 00037: val_loss did not improve from 0.00008\n",
            "Epoch 38/50\n",
            "228/228 [==============================] - 11s 49ms/step - loss: 0.0038 - acc: 1.0000 - val_loss: 0.0019 - val_acc: 1.0000\n",
            "\n",
            "Epoch 00038: val_loss did not improve from 0.00008\n",
            "Epoch 39/50\n",
            "228/228 [==============================] - 11s 49ms/step - loss: 0.0060 - acc: 1.0000 - val_loss: 0.0020 - val_acc: 1.0000\n",
            "\n",
            "Epoch 00039: val_loss did not improve from 0.00008\n",
            "Epoch 40/50\n",
            "228/228 [==============================] - 11s 49ms/step - loss: 0.0058 - acc: 1.0000 - val_loss: 6.6590e-04 - val_acc: 1.0000\n",
            "\n",
            "Epoch 00040: val_loss did not improve from 0.00008\n",
            "Epoch 41/50\n",
            "228/228 [==============================] - 11s 49ms/step - loss: 0.0058 - acc: 0.9956 - val_loss: 2.1103e-05 - val_acc: 1.0000\n",
            "\n",
            "Epoch 00041: val_loss improved from 0.00008 to 0.00002, saving model to model_test.h5\n",
            "Epoch 42/50\n",
            "228/228 [==============================] - 11s 49ms/step - loss: 0.0053 - acc: 1.0000 - val_loss: 1.2525e-05 - val_acc: 1.0000\n",
            "\n",
            "Epoch 00042: val_loss improved from 0.00002 to 0.00001, saving model to model_test.h5\n",
            "Epoch 43/50\n",
            "228/228 [==============================] - 11s 49ms/step - loss: 0.0053 - acc: 0.9956 - val_loss: 2.3427e-04 - val_acc: 1.0000\n",
            "\n",
            "Epoch 00043: val_loss did not improve from 0.00001\n",
            "Epoch 44/50\n",
            "228/228 [==============================] - 11s 49ms/step - loss: 0.0020 - acc: 1.0000 - val_loss: 0.0384 - val_acc: 0.9828\n",
            "\n",
            "Epoch 00044: val_loss did not improve from 0.00001\n",
            "Epoch 45/50\n",
            "228/228 [==============================] - 11s 49ms/step - loss: 0.0081 - acc: 0.9956 - val_loss: 0.0522 - val_acc: 0.9828\n",
            "\n",
            "Epoch 00045: val_loss did not improve from 0.00001\n",
            "Epoch 46/50\n",
            "228/228 [==============================] - 11s 49ms/step - loss: 8.8919e-04 - acc: 1.0000 - val_loss: 0.0237 - val_acc: 0.9828\n",
            "\n",
            "Epoch 00046: val_loss did not improve from 0.00001\n",
            "Epoch 47/50\n",
            "228/228 [==============================] - 11s 49ms/step - loss: 0.0073 - acc: 0.9956 - val_loss: 0.0288 - val_acc: 0.9828\n",
            "\n",
            "Epoch 00047: val_loss did not improve from 0.00001\n",
            "Epoch 48/50\n",
            "228/228 [==============================] - 11s 49ms/step - loss: 6.7981e-04 - acc: 1.0000 - val_loss: 0.0302 - val_acc: 0.9828\n",
            "\n",
            "Epoch 00048: val_loss did not improve from 0.00001\n",
            "Epoch 49/50\n",
            "228/228 [==============================] - 11s 49ms/step - loss: 0.0024 - acc: 1.0000 - val_loss: 0.0087 - val_acc: 1.0000\n",
            "\n",
            "Epoch 00049: val_loss did not improve from 0.00001\n",
            "Epoch 50/50\n",
            "228/228 [==============================] - 11s 49ms/step - loss: 0.0058 - acc: 0.9956 - val_loss: 0.0110 - val_acc: 1.0000\n",
            "\n",
            "Epoch 00050: val_loss did not improve from 0.00001\n"
          ],
          "name": "stdout"
        }
      ]
    },
    {
      "cell_type": "code",
      "metadata": {
        "scrolled": true,
        "id": "h8s7QCXO3OnS",
        "colab_type": "code",
        "outputId": "51146c2b-9ae5-4449-ded5-e3ff9281dd00",
        "colab": {
          "base_uri": "https://localhost:8080/",
          "height": 590
        }
      },
      "source": [
        "# list all data in history\n",
        "print(history.history.keys())\n",
        "# summarize history for accuracy\n",
        "plt.plot(history.history['acc'])\n",
        "plt.plot(history.history['val_acc'])\n",
        "plt.title('model accuracy')\n",
        "plt.ylabel('accuracy')\n",
        "plt.xlabel('epoch')\n",
        "plt.legend(['train', 'valid'], loc='upper left')\n",
        "plt.show()\n",
        "\n",
        "# summarize history for loss\n",
        "plt.plot(history.history['loss'])\n",
        "plt.plot(history.history['val_loss'])\n",
        "plt.title('model loss')\n",
        "plt.ylabel('loss')\n",
        "plt.xlabel('epoch')\n",
        "plt.legend(['train', 'valid'], loc='upper left')\n",
        "plt.show()"
      ],
      "execution_count": 0,
      "outputs": [
        {
          "output_type": "stream",
          "text": [
            "dict_keys(['val_loss', 'val_acc', 'loss', 'acc'])\n"
          ],
          "name": "stdout"
        },
        {
          "output_type": "display_data",
          "data": {
            "image/png": "[encoded data removed]",
            "text/plain": [
              "<Figure size 432x288 with 1 Axes>"
            ]
          },
          "metadata": {
            "tags": []
          }
        },
        {
          "output_type": "display_data",
          "data": {
            "image/png": "[encoded data removed]",
            "text/plain": [
              "<Figure size 432x288 with 1 Axes>"
            ]
          },
          "metadata": {
            "tags": []
          }
        }
      ]
    },
    {
      "cell_type": "code",
      "metadata": {
        "id": "Sw_pT5Cl3OnY",
        "colab_type": "code",
        "colab": {}
      },
      "source": [
        ""
      ],
      "execution_count": 0,
      "outputs": []
    },
    {
      "cell_type": "code",
      "metadata": {
        "id": "AZowgevM3One",
        "colab_type": "code",
        "colab": {}
      },
      "source": [
        "from keras.models import load_model\n",
        "\n",
        "model = load_model('model_test.h5')"
      ],
      "execution_count": 0,
      "outputs": []
    },
    {
      "cell_type": "code",
      "metadata": {
        "id": "9B-mWkFS3Onm",
        "colab_type": "code",
        "outputId": "2c4ca2f0-ab3b-4ca7-d3be-e1824c93713c",
        "colab": {
          "base_uri": "https://localhost:8080/",
          "height": 545
        }
      },
      "source": [
        " model.summary()"
      ],
      "execution_count": 0,
      "outputs": [
        {
          "output_type": "stream",
          "text": [
            "Model: \"sequential_1\"\n",
            "_________________________________________________________________\n",
            "Layer (type)                 Output Shape              Param #   \n",
            "=================================================================\n",
            "lambda_1 (Lambda)            (None, 120, 360, 1)       0         \n",
            "_________________________________________________________________\n",
            "conv2d_1 (Conv2D)            (None, 116, 356, 16)      416       \n",
            "_________________________________________________________________\n",
            "max_pooling2d_1 (MaxPooling2 (None, 58, 178, 16)       0         \n",
            "_________________________________________________________________\n",
            "conv2d_2 (Conv2D)            (None, 54, 174, 32)       12832     \n",
            "_________________________________________________________________\n",
            "max_pooling2d_2 (MaxPooling2 (None, 27, 87, 32)        0         \n",
            "_________________________________________________________________\n",
            "flatten_1 (Flatten)          (None, 75168)             0         \n",
            "_________________________________________________________________\n",
            "dense_1 (Dense)              (None, 64)                4810816   \n",
            "_________________________________________________________________\n",
            "dropout_1 (Dropout)          (None, 64)                0         \n",
            "_________________________________________________________________\n",
            "dense_2 (Dense)              (None, 64)                4160      \n",
            "_________________________________________________________________\n",
            "dropout_2 (Dropout)          (None, 64)                0         \n",
            "_________________________________________________________________\n",
            "dense_3 (Dense)              (None, 3)                 195       \n",
            "=================================================================\n",
            "Total params: 4,828,419\n",
            "Trainable params: 4,828,419\n",
            "Non-trainable params: 0\n",
            "_________________________________________________________________\n"
          ],
          "name": "stdout"
        }
      ]
    },
    {
      "cell_type": "code",
      "metadata": {
        "id": "_s-QMcsK3Ons",
        "colab_type": "code",
        "outputId": "e02423df-e98d-4e10-f35a-9217f5648f82",
        "colab": {
          "base_uri": "https://localhost:8080/",
          "height": 87
        }
      },
      "source": [
        "test_data_path = \"*.npz\"\n",
        "X_test, y_test = load_data(120*360, test_data_path)"
      ],
      "execution_count": 0,
      "outputs": [
        {
          "output_type": "stream",
          "text": [
            "Loading training data...\n",
            "Image array shape:  (286, 43200)\n",
            "Label array shape:  (286, 3)\n",
            "Loading data duration: 0.44s\n"
          ],
          "name": "stdout"
        }
      ]
    },
    {
      "cell_type": "code",
      "metadata": {
        "id": "3YewUjNE3Onz",
        "colab_type": "code",
        "colab": {}
      },
      "source": [
        "X_test = X_test.reshape(X_test.shape[0], 120, 360, 1)"
      ],
      "execution_count": 0,
      "outputs": []
    },
    {
      "cell_type": "code",
      "metadata": {
        "id": "AJNoVdNU3On6",
        "colab_type": "code",
        "outputId": "9835e774-dd52-40ef-8250-c515bfd7cf99",
        "colab": {
          "base_uri": "https://localhost:8080/",
          "height": 181
        }
      },
      "source": [
        "plt.imshow(X_test[200].reshape((120, 360)), cmap='gray')"
      ],
      "execution_count": 0,
      "outputs": [
        {
          "output_type": "execute_result",
          "data": {
            "text/plain": [
              "<matplotlib.image.AxesImage at 0x7fce01c604a8>"
            ]
          },
          "metadata": {
            "tags": []
          },
          "execution_count": 16
        },
        {
          "output_type": "display_data",
          "data": {
            "image/png": "[encoded data removed]",
            "text/plain": [
              "<Figure size 432x288 with 1 Axes>"
            ]
          },
          "metadata": {
            "tags": []
          }
        }
      ]
    },
    {
      "cell_type": "code",
      "metadata": {
        "id": "B_KYvUQG3OoA",
        "colab_type": "code",
        "outputId": "6e729f00-ef30-4959-b9f8-36515ca2cca5",
        "colab": {
          "base_uri": "https://localhost:8080/",
          "height": 422
        }
      },
      "source": [
        "from sklearn.metrics import accuracy_score, confusion_matrix\n",
        "\n",
        "y_pred = model.predict_classes(X_test)\n",
        "y_true = np.argmax(y_test, -1)\n",
        "\n",
        "print(y_pred)\n",
        "print(y_true)\n",
        "print(accuracy_score(y_true, y_pred))\n",
        "print()\n",
        "print(\"Confusion Matrix\")\n",
        "print(confusion_matrix(y_true, y_pred))\n",
        "\n",
        "accuracy = np.mean(y_pred == y_true)\n",
        "print(accuracy*100)"
      ],
      "execution_count": 0,
      "outputs": [
        {
          "output_type": "stream",
          "text": [
            "[0 0 0 0 0 0 0 0 0 0 0 0 0 0 0 0 0 0 0 0 0 0 0 0 0 0 0 1 1 1 1 1 1 1 1 1 1\n",
            " 1 1 1 1 1 1 1 1 1 1 1 1 1 2 1 1 1 1 1 1 1 1 1 1 1 1 1 1 1 1 1 1 1 1 1 1 1\n",
            " 1 1 1 1 1 1 1 1 1 2 2 2 2 2 2 2 2 2 2 2 2 2 2 2 2 2 2 2 2 2 2 2 2 2 2 2 2\n",
            " 0 0 0 0 0 0 0 0 0 0 0 0 0 0 0 0 0 0 0 1 1 1 1 1 1 1 1 1 1 1 1 1 1 1 1 1 1\n",
            " 1 2 2 2 2 2 2 2 2 2 2 2 2 2 2 2 2 2 2 2 1 1 1 1 1 1 1 1 1 1 1 1 1 1 1 1 1\n",
            " 1 1 1 1 1 1 0 0 0 0 0 0 0 0 0 0 0 0 0 0 0 0 0 0 0 0 0 0 0 0 0 0 0 0 0 0 0\n",
            " 0 0 0 0 0 0 0 0 0 0 2 2 2 2 2 2 2 2 2 2 2 2 2 2 2 2 2 2 2 2 2 2 2 2 2 2 2\n",
            " 2 2 2 2 2 2 2 2 2 2 2 2 2 2 2 2 2 2 2 2 2 2 2 2 2 2 2]\n",
            "[0 0 0 0 0 0 0 0 0 0 0 0 0 0 0 0 0 0 0 0 0 0 0 0 0 0 0 1 1 1 1 1 1 1 1 1 1\n",
            " 1 1 1 1 1 1 1 1 1 1 1 1 1 2 1 1 1 1 1 1 1 1 1 1 1 1 1 1 1 1 1 1 1 1 1 1 1\n",
            " 1 1 1 1 1 1 1 1 1 2 2 2 2 2 2 2 2 2 2 2 2 2 2 2 2 2 2 2 2 2 2 2 2 2 2 2 2\n",
            " 0 0 0 0 0 0 0 0 0 0 0 0 0 0 0 0 0 0 0 1 1 1 1 1 1 1 1 1 1 1 1 1 1 1 1 1 1\n",
            " 1 2 2 2 2 2 2 2 2 2 2 2 2 2 2 2 2 2 2 2 1 1 1 1 1 1 1 1 1 1 1 1 1 1 1 1 1\n",
            " 1 1 1 1 1 1 0 0 0 0 0 0 0 0 0 0 0 0 0 0 0 0 0 0 0 0 0 0 0 0 0 0 0 0 0 0 0\n",
            " 0 0 0 0 0 0 0 0 0 0 2 2 2 2 2 2 2 2 2 2 2 2 2 2 2 2 2 2 2 2 2 2 2 2 2 2 2\n",
            " 2 2 2 2 2 2 2 2 2 2 2 2 2 2 2 2 2 2 2 2 2 2 2 2 2 2 2]\n",
            "1.0\n",
            "\n",
            "Confusion Matrix\n",
            "[[ 87   0   0]\n",
            " [  0  97   0]\n",
            " [  0   0 102]]\n",
            "100.0\n"
          ],
          "name": "stdout"
        }
      ]
    },
    {
      "cell_type": "code",
      "metadata": {
        "id": "mBMYoLEh5qsp",
        "colab_type": "code",
        "colab": {}
      },
      "source": [
        ""
      ],
      "execution_count": 0,
      "outputs": []
    },
    {
      "cell_type": "code",
      "metadata": {
        "id": "SKEsUXGD3OoF",
        "colab_type": "code",
        "colab": {}
      },
      "source": [
        " "
      ],
      "execution_count": 0,
      "outputs": []
    },
    {
      "cell_type": "code",
      "metadata": {
        "id": "3n0_1E6-3OoK",
        "colab_type": "code",
        "colab": {}
      },
      "source": [
        ""
      ],
      "execution_count": 0,
      "outputs": []
    }
  ]
}